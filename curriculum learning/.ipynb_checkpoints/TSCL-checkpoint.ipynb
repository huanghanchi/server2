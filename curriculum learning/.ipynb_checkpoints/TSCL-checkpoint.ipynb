{
 "cells": [
  {
   "cell_type": "code",
   "execution_count": 1,
   "metadata": {},
   "outputs": [
    {
     "name": "stdout",
     "output_type": "stream",
     "text": [
      "Looking in indexes: https://mirrors.tencent.com/pypi/simple/\n",
      "\u001b[31mERROR: Could not find a version that satisfies the requirement gym_minecraft (from versions: none)\u001b[0m\n",
      "\u001b[31mERROR: No matching distribution found for gym_minecraft\u001b[0m\n"
     ]
    }
   ],
   "source": [
    "!pip install gym_minecraft"
   ]
  },
  {
   "cell_type": "code",
   "execution_count": 3,
   "metadata": {},
   "outputs": [],
   "source": [
    "import argparse\n",
    "import logging\n",
    "import os\n",
    "\n",
    "#logging.getLogger(\"gym_minecraft\").setLevel(logging.ERROR)\n",
    "class parsers:\n",
    "    def __init__(self):\n",
    "        self.environment=\"PongNoFrameskip-v0\"\n",
    "        self.num_buffer_frames=4\n",
    "        self.max_repeats=0\n",
    "        self.wrappers='deepmind'\n",
    "        self.policy='rnn'\n",
    "        self.cnn_architecture='deepmind'\n",
    "        self.cnn_layers=2\n",
    "        self.cnn_filters=64\n",
    "        self.cnn_kernel_size=5\n",
    "        self.cnn_kernel_step=2\n",
    "        self.rnn_layers=1\n",
    "        self.rnn_size=32\n",
    "        self.rnn_type='lstm'\n",
    "        self.fc_layers=0\n",
    "        self.fc_size=32\n",
    "        self.cnn_init='glorot_normal'\n",
    "        self.fc_init='glorot_normal'\n",
    "        self.action_init='orthogonal'\n",
    "        self.action_init_scale=0.01\n",
    "        self.activation='relu'\n",
    "        self.stochastic=True\n",
    "        self.deterministic='stochastic'\n",
    "        self.optimizer='adam'\n",
    "        self.optimizer_lr=0.001\n",
    "        self.clipnorm=40.0\n",
    "        self.gamma=0.99\n",
    "        self.lam=0.9\n",
    "        self.clip_param=0.2\n",
    "        self.initial_std=0.5\n",
    "        self.l2_reg=0\n",
    "        self.policy_loss='pposgd'\n",
    "        self.entropy_coef=0.01\n",
    "        self.kld_coef=0.01\n",
    "        self.value_coef=1.0\n",
    "        self.normalize_observations=False\n",
    "        self.no_normalize_observations='normalize_observations'\n",
    "        self.normalize_advantage=True\n",
    "        self.no_normalize_advantage='normalize_advantage'\n",
    "        self.normalize_baseline=True\n",
    "        self.no_normalize_baseline='normalize_baseline'\n",
    "        self.repeat_updates=4\n",
    "        self.num_local_steps=100\n",
    "        self.adapt_kl=0\n",
    "        self.trainer='batched'\n",
    "        self.num_runners=16\n",
    "        self.queue_length=1\n",
    "        self.queue_timeout=None\n",
    "        self.runner_gpu=None\n",
    "        self.num_timesteps=5000000\n",
    "        self.stats_interval=10000\n",
    "        self.save_interval=50000\n",
    "        self.num_eval_steps=5000\n",
    "        self.display=False\n",
    "        self.no_display='store_false'\n",
    "        self.monitor=False\n",
    "        self.no_monitor='monitor'\n",
    "        self.logdir=\"logs/atari\"\n",
    "        self.csv_file=None\n",
    "        self.load_weights=None\n",
    "        self.weights_by_name=False\n",
    "args=parsers()\n",
    "\n",
    "from common.envs import create_env\n",
    "from trainers.batched import BatchedTrainer, BatchedTrainerProfiler\n",
    "from trainers.batched_predictor import BatchedPredictorTrainer\n",
    "from policies.ppo import CNNPolicy, CNNRNNPolicy\n",
    "\n",
    "if args.policy == 'cnn':\n",
    "    policy_class = CNNPolicy\n",
    "elif args.policy == 'rnn':\n",
    "    policy_class = CNNRNNPolicy\n",
    "else:\n",
    "    assert False\n",
    "\n",
    "if args.trainer == 'batched':\n",
    "    trainer_class = BatchedTrainer\n",
    "elif args.trainer == 'batched_predictor':\n",
    "    trainer_class = BatchedPredictorTrainer\n",
    "elif args.trainer == 'batched_profiler':\n",
    "    trainer_class = BatchedTrainerProfiler\n",
    "else:\n",
    "    assert False\n",
    "\n",
    "trainer = trainer_class(create_env, policy_class, args)\n",
    "\n",
    "if args.command == 'train':\n",
    "    trainer.run(args.environment, args.num_timesteps, os.path.join(args.logdir, args.label))\n",
    "elif args.command == 'eval':\n",
    "    trainer.eval(args.environment, args.num_timesteps, os.path.join(args.logdir, args.label))\n",
    "else:\n",
    "    parser.print_usage()\n"
   ]
  },
  {
   "cell_type": "code",
   "execution_count": 4,
   "metadata": {},
   "outputs": [
    {
     "ename": "ModuleNotFoundError",
     "evalue": "No module named 'common'",
     "output_type": "error",
     "traceback": [
      "\u001b[0;31m---------------------------------------------------------------------------\u001b[0m",
      "\u001b[0;31mModuleNotFoundError\u001b[0m                       Traceback (most recent call last)",
      "\u001b[0;32m<ipython-input-4-5737115ffa38>\u001b[0m in \u001b[0;36m<module>\u001b[0;34m\u001b[0m\n\u001b[0;32m----> 1\u001b[0;31m \u001b[0;32mfrom\u001b[0m \u001b[0mcommon\u001b[0m\u001b[0;34m.\u001b[0m\u001b[0menvs\u001b[0m \u001b[0;32mimport\u001b[0m \u001b[0mcreate_env\u001b[0m\u001b[0;34m\u001b[0m\u001b[0;34m\u001b[0m\u001b[0m\n\u001b[0m\u001b[1;32m      2\u001b[0m \u001b[0;32mfrom\u001b[0m \u001b[0mtrainers\u001b[0m\u001b[0;34m.\u001b[0m\u001b[0mbatched\u001b[0m \u001b[0;32mimport\u001b[0m \u001b[0mBatchedTrainer\u001b[0m\u001b[0;34m,\u001b[0m \u001b[0mBatchedTrainerProfiler\u001b[0m\u001b[0;34m\u001b[0m\u001b[0;34m\u001b[0m\u001b[0m\n\u001b[1;32m      3\u001b[0m \u001b[0;32mfrom\u001b[0m \u001b[0mtrainers\u001b[0m\u001b[0;34m.\u001b[0m\u001b[0mbatched_predictor\u001b[0m \u001b[0;32mimport\u001b[0m \u001b[0mBatchedPredictorTrainer\u001b[0m\u001b[0;34m\u001b[0m\u001b[0;34m\u001b[0m\u001b[0m\n\u001b[1;32m      4\u001b[0m \u001b[0;32mfrom\u001b[0m \u001b[0mpolicies\u001b[0m\u001b[0;34m.\u001b[0m\u001b[0mppo\u001b[0m \u001b[0;32mimport\u001b[0m \u001b[0mCNNPolicy\u001b[0m\u001b[0;34m,\u001b[0m \u001b[0mCNNRNNPolicy\u001b[0m\u001b[0;34m\u001b[0m\u001b[0;34m\u001b[0m\u001b[0m\n\u001b[1;32m      5\u001b[0m \u001b[0;34m\u001b[0m\u001b[0m\n",
      "\u001b[0;31mModuleNotFoundError\u001b[0m: No module named 'common'"
     ]
    }
   ],
   "source": []
  },
  {
   "cell_type": "code",
   "execution_count": null,
   "metadata": {},
   "outputs": [],
   "source": []
  }
 ],
 "metadata": {
  "kernelspec": {
   "display_name": "Python 3",
   "language": "python",
   "name": "python3"
  },
  "language_info": {
   "codemirror_mode": {
    "name": "ipython",
    "version": 3
   },
   "file_extension": ".py",
   "mimetype": "text/x-python",
   "name": "python",
   "nbconvert_exporter": "python",
   "pygments_lexer": "ipython3",
   "version": "3.6.8"
  }
 },
 "nbformat": 4,
 "nbformat_minor": 4
}
